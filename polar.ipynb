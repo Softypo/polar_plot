{
 "cells": [
  {
   "cell_type": "code",
   "execution_count": null,
   "metadata": {},
   "outputs": [],
   "source": [
    "import plotly.graph_objects as go\n",
    "import plotly.io as pio\n",
    "from plotly.subplots import make_subplots"
   ]
  },
  {
   "cell_type": "code",
   "execution_count": 81,
   "metadata": {},
   "outputs": [
    {
     "data": {
      "application/vnd.plotly.v1+json": {
       "config": {
        "plotlyServerURL": "https://plot.ly"
       },
       "data": [
        {
         "hovertemplate": "%{text} <br>DV Scan Angle: %{theta} </br>",
         "line": {
          "color": "indianred"
         },
         "marker": {
          "color": [
           "red",
           "green",
           "black"
          ],
          "size": 15,
          "symbol": "circle-cross"
         },
         "mode": "markers",
         "name": "",
         "r": [
          1.5,
          1,
          1
         ],
         "text": [
          "DVSA >> Reference Scan Angle",
          "DV Scan Angle pointing South",
          "DV Scan Angle pointing North"
         ],
         "theta": [
          90,
          64.1,
          244.1
         ],
         "type": "scatterpolar"
        },
        {
         "hovertemplate": "%{text} <br>Gyro reading at 90° DV Scan Angle: 205.9° </br>",
         "line": {
          "color": "indianred"
         },
         "marker": {
          "color": [
           "blue"
          ],
          "size": 15,
          "symbol": "circle-cross"
         },
         "mode": "lines+markers",
         "name": "",
         "r": [
          0.5
         ],
         "text": [
          "GRBN >> Gyro toolface relative bearing from North"
         ],
         "theta": [
          90
         ],
         "type": "scatterpolar"
        }
       ],
       "layout": {
        "annotations": [
         {
          "bgcolor": "lightgrey",
          "showarrow": false,
          "text": "DV Scan Angle pointing North: 244.1°",
          "x": 0,
          "xref": "paper",
          "y": 0.2,
          "yref": "paper"
         },
         {
          "bgcolor": "lightgreen",
          "showarrow": false,
          "text": "DV Scan Angle pointing South: 64.1°",
          "x": 0,
          "xref": "paper",
          "y": 0.1,
          "yref": "paper"
         }
        ],
        "images": [
         {
          "layer": "above",
          "sizex": 0.5,
          "sizey": 0.5,
          "sizing": "contain",
          "source": "https://cdn.pixabay.com/photo/2012/04/26/14/18/geography-42608_960_720.png",
          "x": 0.5,
          "xanchor": "center",
          "xref": "paper",
          "y": 0.5,
          "yanchor": "middle",
          "yref": "paper"
         }
        ],
        "margin": {
         "b": 25,
         "l": 25,
         "r": 25,
         "t": 25
        },
        "polar": {
         "angularaxis": {
          "direction": "clockwise",
          "rotation": -25.900000000000006,
          "tickfont": {
           "size": 18
          },
          "ticks": "inside",
          "ticktext": [
           0,
           15,
           30,
           45,
           60,
           75,
           90,
           105,
           120,
           135,
           150,
           165,
           180,
           195,
           210,
           225,
           240,
           255,
           270,
           285,
           300,
           315,
           330,
           345
          ],
          "tickvals": [
           0,
           15,
           30,
           45,
           60,
           75,
           90,
           105,
           120,
           135,
           150,
           165,
           180,
           195,
           210,
           225,
           240,
           255,
           270,
           285,
           300,
           315,
           330,
           345
          ]
         },
         "bgcolor": "darkgrey",
         "hole": 0.75,
         "radialaxis": {
          "range": [
           0,
           2
          ],
          "tickfont": {
           "size": 1
          }
         }
        },
        "shapes": [
         {
          "line": {
           "color": "black",
           "width": 3
          },
          "name": "North",
          "type": "line",
          "x0": 0.5,
          "x1": 0.5,
          "xref": "paper",
          "y0": 0.8,
          "y1": 1,
          "yref": "paper"
         },
         {
          "line": {
           "color": "green",
           "width": 3
          },
          "type": "line",
          "x0": 0.5,
          "x1": 0.5,
          "xref": "paper",
          "y0": 0,
          "y1": 0.2,
          "yref": "paper"
         }
        ],
        "showlegend": false,
        "template": {
         "data": {
          "bar": [
           {
            "error_x": {
             "color": "#2a3f5f"
            },
            "error_y": {
             "color": "#2a3f5f"
            },
            "marker": {
             "line": {
              "color": "#E5ECF6",
              "width": 0.5
             },
             "pattern": {
              "fillmode": "overlay",
              "size": 10,
              "solidity": 0.2
             }
            },
            "type": "bar"
           }
          ],
          "barpolar": [
           {
            "marker": {
             "line": {
              "color": "#E5ECF6",
              "width": 0.5
             },
             "pattern": {
              "fillmode": "overlay",
              "size": 10,
              "solidity": 0.2
             }
            },
            "type": "barpolar"
           }
          ],
          "carpet": [
           {
            "aaxis": {
             "endlinecolor": "#2a3f5f",
             "gridcolor": "white",
             "linecolor": "white",
             "minorgridcolor": "white",
             "startlinecolor": "#2a3f5f"
            },
            "baxis": {
             "endlinecolor": "#2a3f5f",
             "gridcolor": "white",
             "linecolor": "white",
             "minorgridcolor": "white",
             "startlinecolor": "#2a3f5f"
            },
            "type": "carpet"
           }
          ],
          "choropleth": [
           {
            "colorbar": {
             "outlinewidth": 0,
             "ticks": ""
            },
            "type": "choropleth"
           }
          ],
          "contour": [
           {
            "colorbar": {
             "outlinewidth": 0,
             "ticks": ""
            },
            "colorscale": [
             [
              0,
              "#0d0887"
             ],
             [
              0.1111111111111111,
              "#46039f"
             ],
             [
              0.2222222222222222,
              "#7201a8"
             ],
             [
              0.3333333333333333,
              "#9c179e"
             ],
             [
              0.4444444444444444,
              "#bd3786"
             ],
             [
              0.5555555555555556,
              "#d8576b"
             ],
             [
              0.6666666666666666,
              "#ed7953"
             ],
             [
              0.7777777777777778,
              "#fb9f3a"
             ],
             [
              0.8888888888888888,
              "#fdca26"
             ],
             [
              1,
              "#f0f921"
             ]
            ],
            "type": "contour"
           }
          ],
          "contourcarpet": [
           {
            "colorbar": {
             "outlinewidth": 0,
             "ticks": ""
            },
            "type": "contourcarpet"
           }
          ],
          "heatmap": [
           {
            "colorbar": {
             "outlinewidth": 0,
             "ticks": ""
            },
            "colorscale": [
             [
              0,
              "#0d0887"
             ],
             [
              0.1111111111111111,
              "#46039f"
             ],
             [
              0.2222222222222222,
              "#7201a8"
             ],
             [
              0.3333333333333333,
              "#9c179e"
             ],
             [
              0.4444444444444444,
              "#bd3786"
             ],
             [
              0.5555555555555556,
              "#d8576b"
             ],
             [
              0.6666666666666666,
              "#ed7953"
             ],
             [
              0.7777777777777778,
              "#fb9f3a"
             ],
             [
              0.8888888888888888,
              "#fdca26"
             ],
             [
              1,
              "#f0f921"
             ]
            ],
            "type": "heatmap"
           }
          ],
          "heatmapgl": [
           {
            "colorbar": {
             "outlinewidth": 0,
             "ticks": ""
            },
            "colorscale": [
             [
              0,
              "#0d0887"
             ],
             [
              0.1111111111111111,
              "#46039f"
             ],
             [
              0.2222222222222222,
              "#7201a8"
             ],
             [
              0.3333333333333333,
              "#9c179e"
             ],
             [
              0.4444444444444444,
              "#bd3786"
             ],
             [
              0.5555555555555556,
              "#d8576b"
             ],
             [
              0.6666666666666666,
              "#ed7953"
             ],
             [
              0.7777777777777778,
              "#fb9f3a"
             ],
             [
              0.8888888888888888,
              "#fdca26"
             ],
             [
              1,
              "#f0f921"
             ]
            ],
            "type": "heatmapgl"
           }
          ],
          "histogram": [
           {
            "marker": {
             "pattern": {
              "fillmode": "overlay",
              "size": 10,
              "solidity": 0.2
             }
            },
            "type": "histogram"
           }
          ],
          "histogram2d": [
           {
            "colorbar": {
             "outlinewidth": 0,
             "ticks": ""
            },
            "colorscale": [
             [
              0,
              "#0d0887"
             ],
             [
              0.1111111111111111,
              "#46039f"
             ],
             [
              0.2222222222222222,
              "#7201a8"
             ],
             [
              0.3333333333333333,
              "#9c179e"
             ],
             [
              0.4444444444444444,
              "#bd3786"
             ],
             [
              0.5555555555555556,
              "#d8576b"
             ],
             [
              0.6666666666666666,
              "#ed7953"
             ],
             [
              0.7777777777777778,
              "#fb9f3a"
             ],
             [
              0.8888888888888888,
              "#fdca26"
             ],
             [
              1,
              "#f0f921"
             ]
            ],
            "type": "histogram2d"
           }
          ],
          "histogram2dcontour": [
           {
            "colorbar": {
             "outlinewidth": 0,
             "ticks": ""
            },
            "colorscale": [
             [
              0,
              "#0d0887"
             ],
             [
              0.1111111111111111,
              "#46039f"
             ],
             [
              0.2222222222222222,
              "#7201a8"
             ],
             [
              0.3333333333333333,
              "#9c179e"
             ],
             [
              0.4444444444444444,
              "#bd3786"
             ],
             [
              0.5555555555555556,
              "#d8576b"
             ],
             [
              0.6666666666666666,
              "#ed7953"
             ],
             [
              0.7777777777777778,
              "#fb9f3a"
             ],
             [
              0.8888888888888888,
              "#fdca26"
             ],
             [
              1,
              "#f0f921"
             ]
            ],
            "type": "histogram2dcontour"
           }
          ],
          "mesh3d": [
           {
            "colorbar": {
             "outlinewidth": 0,
             "ticks": ""
            },
            "type": "mesh3d"
           }
          ],
          "parcoords": [
           {
            "line": {
             "colorbar": {
              "outlinewidth": 0,
              "ticks": ""
             }
            },
            "type": "parcoords"
           }
          ],
          "pie": [
           {
            "automargin": true,
            "type": "pie"
           }
          ],
          "scatter": [
           {
            "fillpattern": {
             "fillmode": "overlay",
             "size": 10,
             "solidity": 0.2
            },
            "type": "scatter"
           }
          ],
          "scatter3d": [
           {
            "line": {
             "colorbar": {
              "outlinewidth": 0,
              "ticks": ""
             }
            },
            "marker": {
             "colorbar": {
              "outlinewidth": 0,
              "ticks": ""
             }
            },
            "type": "scatter3d"
           }
          ],
          "scattercarpet": [
           {
            "marker": {
             "colorbar": {
              "outlinewidth": 0,
              "ticks": ""
             }
            },
            "type": "scattercarpet"
           }
          ],
          "scattergeo": [
           {
            "marker": {
             "colorbar": {
              "outlinewidth": 0,
              "ticks": ""
             }
            },
            "type": "scattergeo"
           }
          ],
          "scattergl": [
           {
            "marker": {
             "colorbar": {
              "outlinewidth": 0,
              "ticks": ""
             }
            },
            "type": "scattergl"
           }
          ],
          "scattermapbox": [
           {
            "marker": {
             "colorbar": {
              "outlinewidth": 0,
              "ticks": ""
             }
            },
            "type": "scattermapbox"
           }
          ],
          "scatterpolar": [
           {
            "marker": {
             "colorbar": {
              "outlinewidth": 0,
              "ticks": ""
             }
            },
            "type": "scatterpolar"
           }
          ],
          "scatterpolargl": [
           {
            "marker": {
             "colorbar": {
              "outlinewidth": 0,
              "ticks": ""
             }
            },
            "type": "scatterpolargl"
           }
          ],
          "scatterternary": [
           {
            "marker": {
             "colorbar": {
              "outlinewidth": 0,
              "ticks": ""
             }
            },
            "type": "scatterternary"
           }
          ],
          "surface": [
           {
            "colorbar": {
             "outlinewidth": 0,
             "ticks": ""
            },
            "colorscale": [
             [
              0,
              "#0d0887"
             ],
             [
              0.1111111111111111,
              "#46039f"
             ],
             [
              0.2222222222222222,
              "#7201a8"
             ],
             [
              0.3333333333333333,
              "#9c179e"
             ],
             [
              0.4444444444444444,
              "#bd3786"
             ],
             [
              0.5555555555555556,
              "#d8576b"
             ],
             [
              0.6666666666666666,
              "#ed7953"
             ],
             [
              0.7777777777777778,
              "#fb9f3a"
             ],
             [
              0.8888888888888888,
              "#fdca26"
             ],
             [
              1,
              "#f0f921"
             ]
            ],
            "type": "surface"
           }
          ],
          "table": [
           {
            "cells": {
             "fill": {
              "color": "#EBF0F8"
             },
             "line": {
              "color": "white"
             }
            },
            "header": {
             "fill": {
              "color": "#C8D4E3"
             },
             "line": {
              "color": "white"
             }
            },
            "type": "table"
           }
          ]
         },
         "layout": {
          "annotationdefaults": {
           "arrowcolor": "#2a3f5f",
           "arrowhead": 0,
           "arrowwidth": 1
          },
          "autotypenumbers": "strict",
          "coloraxis": {
           "colorbar": {
            "outlinewidth": 0,
            "ticks": ""
           }
          },
          "colorscale": {
           "diverging": [
            [
             0,
             "#8e0152"
            ],
            [
             0.1,
             "#c51b7d"
            ],
            [
             0.2,
             "#de77ae"
            ],
            [
             0.3,
             "#f1b6da"
            ],
            [
             0.4,
             "#fde0ef"
            ],
            [
             0.5,
             "#f7f7f7"
            ],
            [
             0.6,
             "#e6f5d0"
            ],
            [
             0.7,
             "#b8e186"
            ],
            [
             0.8,
             "#7fbc41"
            ],
            [
             0.9,
             "#4d9221"
            ],
            [
             1,
             "#276419"
            ]
           ],
           "sequential": [
            [
             0,
             "#0d0887"
            ],
            [
             0.1111111111111111,
             "#46039f"
            ],
            [
             0.2222222222222222,
             "#7201a8"
            ],
            [
             0.3333333333333333,
             "#9c179e"
            ],
            [
             0.4444444444444444,
             "#bd3786"
            ],
            [
             0.5555555555555556,
             "#d8576b"
            ],
            [
             0.6666666666666666,
             "#ed7953"
            ],
            [
             0.7777777777777778,
             "#fb9f3a"
            ],
            [
             0.8888888888888888,
             "#fdca26"
            ],
            [
             1,
             "#f0f921"
            ]
           ],
           "sequentialminus": [
            [
             0,
             "#0d0887"
            ],
            [
             0.1111111111111111,
             "#46039f"
            ],
            [
             0.2222222222222222,
             "#7201a8"
            ],
            [
             0.3333333333333333,
             "#9c179e"
            ],
            [
             0.4444444444444444,
             "#bd3786"
            ],
            [
             0.5555555555555556,
             "#d8576b"
            ],
            [
             0.6666666666666666,
             "#ed7953"
            ],
            [
             0.7777777777777778,
             "#fb9f3a"
            ],
            [
             0.8888888888888888,
             "#fdca26"
            ],
            [
             1,
             "#f0f921"
            ]
           ]
          },
          "colorway": [
           "#636efa",
           "#EF553B",
           "#00cc96",
           "#ab63fa",
           "#FFA15A",
           "#19d3f3",
           "#FF6692",
           "#B6E880",
           "#FF97FF",
           "#FECB52"
          ],
          "font": {
           "color": "#2a3f5f"
          },
          "geo": {
           "bgcolor": "white",
           "lakecolor": "white",
           "landcolor": "#E5ECF6",
           "showlakes": true,
           "showland": true,
           "subunitcolor": "white"
          },
          "hoverlabel": {
           "align": "left"
          },
          "hovermode": "closest",
          "mapbox": {
           "style": "light"
          },
          "paper_bgcolor": "white",
          "plot_bgcolor": "#E5ECF6",
          "polar": {
           "angularaxis": {
            "gridcolor": "white",
            "linecolor": "white",
            "ticks": ""
           },
           "bgcolor": "#E5ECF6",
           "radialaxis": {
            "gridcolor": "white",
            "linecolor": "white",
            "ticks": ""
           }
          },
          "scene": {
           "xaxis": {
            "backgroundcolor": "#E5ECF6",
            "gridcolor": "white",
            "gridwidth": 2,
            "linecolor": "white",
            "showbackground": true,
            "ticks": "",
            "zerolinecolor": "white"
           },
           "yaxis": {
            "backgroundcolor": "#E5ECF6",
            "gridcolor": "white",
            "gridwidth": 2,
            "linecolor": "white",
            "showbackground": true,
            "ticks": "",
            "zerolinecolor": "white"
           },
           "zaxis": {
            "backgroundcolor": "#E5ECF6",
            "gridcolor": "white",
            "gridwidth": 2,
            "linecolor": "white",
            "showbackground": true,
            "ticks": "",
            "zerolinecolor": "white"
           }
          },
          "shapedefaults": {
           "line": {
            "color": "#2a3f5f"
           }
          },
          "ternary": {
           "aaxis": {
            "gridcolor": "white",
            "linecolor": "white",
            "ticks": ""
           },
           "baxis": {
            "gridcolor": "white",
            "linecolor": "white",
            "ticks": ""
           },
           "bgcolor": "#E5ECF6",
           "caxis": {
            "gridcolor": "white",
            "linecolor": "white",
            "ticks": ""
           }
          },
          "title": {
           "x": 0.05
          },
          "xaxis": {
           "automargin": true,
           "gridcolor": "white",
           "linecolor": "white",
           "ticks": "",
           "title": {
            "standoff": 15
           },
           "zerolinecolor": "white",
           "zerolinewidth": 2
          },
          "yaxis": {
           "automargin": true,
           "gridcolor": "white",
           "linecolor": "white",
           "ticks": "",
           "title": {
            "standoff": 15
           },
           "zerolinecolor": "white",
           "zerolinewidth": 2
          }
         }
        }
       }
      }
     },
     "metadata": {},
     "output_type": "display_data"
    }
   ],
   "source": [
    "#polar plot\n",
    "r = [1.5,1,1]\n",
    "theta = [90,64.1, 64.1+180]\n",
    "color = [\"red\",\"green\",\"black\"]\n",
    "text = [\"DVSA >> Reference Scan Angle\", \"DV Scan Angle pointing South\", \"DV Scan Angle pointing North\"]\n",
    "\n",
    "tickvals=[x for x in range(0,355,15)]\n",
    "ticktext=[x for x in tickvals]\n",
    "\n",
    "fig = go.Figure(data=go.Scatterpolar(theta=theta, r=r, text=text, name=\"\",\n",
    "                                     mode=\"markers\", line_color='indianred',\n",
    "                  marker=dict(color=color, size=15, symbol='circle-cross'),\n",
    "                  hovertemplate = \"%{text} <br>DV Scan Angle: %{theta} </br>\",))\n",
    "\n",
    "fig.add_scatterpolar(theta=[90], r=[0.5], text=[\"GRBN >> Gyro toolface relative bearing from North\"], name=\"\",\n",
    "                     mode=\"lines+markers\", line_color='indianred',\n",
    "                  marker=dict(color=[\"blue\"], size=15, symbol='circle-cross'),\n",
    "                  hovertemplate = \"%{text} <br>Gyro reading at 90° DV Scan Angle: 205.9° </br>\",)\n",
    "# fig.update_traces(mode=\"markers\", line_color='indianred',\n",
    "#                   marker=dict(color=color, size=15, symbol='circle-cross'),\n",
    "#                   hovertemplate = \"%{text} <br>DV Scan Angle: %{theta} </br>\",)\n",
    "fig.update_polars(bgcolor='darkgrey', )\n",
    "fig.update_layout(\n",
    "    margin=dict(l=25, r=25, t=25, b=25),\n",
    "    showlegend = False,\n",
    "    polar = dict(\n",
    "      hole = 0.75,\n",
    "      radialaxis_range = [0,2],\n",
    "      radialaxis_tickfont_size = 1,\n",
    "      angularaxis_ticks=\"inside\",\n",
    "      angularaxis = dict(\n",
    "        tickfont_size = 18,\n",
    "        rotation = 180-205.9,\n",
    "        direction = \"clockwise\",\n",
    "        tickvals=tickvals,\n",
    "        ticktext=ticktext,\n",
    "      ),\n",
    "    ))\n",
    "fig.add_layout_image(dict(\n",
    "                    source=\"https://cdn.pixabay.com/photo/2012/04/26/14/18/geography-42608_960_720.png\",\n",
    "                    xref=\"paper\", yref=\"paper\",\n",
    "                    x=0.5, y=0.5,\n",
    "                    sizex=0.5, sizey=0.5,\n",
    "                    xanchor=\"center\",\n",
    "                    yanchor=\"middle\",\n",
    "                    sizing=\"contain\",\n",
    "                    layer=\"above\"))\n",
    "\n",
    "shapes = [dict(type=\"line\",\n",
    "             name=\"North\",\n",
    "            xref=\"paper\",\n",
    "            yref=\"paper\",\n",
    "            x0=0.5,\n",
    "            y0=0.8,\n",
    "            x1=0.5,\n",
    "            y1=1,\n",
    "            line=dict(\n",
    "                color=\"black\",\n",
    "                width=3,\n",
    "            ),),\n",
    "          dict(type=\"line\",\n",
    "            xref=\"paper\",\n",
    "            yref=\"paper\",\n",
    "            x0=0.5,\n",
    "            y0=0.0,\n",
    "            x1=0.5,\n",
    "            y1=0.2,\n",
    "            line=dict(\n",
    "                color=\"green\",\n",
    "                width=3,\n",
    "            ),)\n",
    "         ] \n",
    "fig.layout.shapes=shapes\n",
    "\n",
    "fig.add_annotation(text=\"DV Scan Angle pointing North: 244.1°\",\n",
    "                  xref=\"paper\", yref=\"paper\",\n",
    "                  x=0, y=0.2, showarrow=False, bgcolor=\"lightgrey\")\n",
    "\n",
    "fig.add_annotation(text=\"DV Scan Angle pointing South: 64.1°\",\n",
    "                  xref=\"paper\", yref=\"paper\",\n",
    "                  x=0, y=0.1, showarrow=False, bgcolor=\"lightgreen\")\n",
    "\n",
    "fig.show()"
   ]
  },
  {
   "cell_type": "code",
   "execution_count": null,
   "metadata": {},
   "outputs": [],
   "source": [
    "#polar plot\n",
    "r = [1,1,1,1]\n",
    "theta = [90,64.1,205.9, 64.1+180]\n",
    "color = [\"red\",\"green\",\"blue\"]\n",
    "text = [\"DVSA >> Reference Scan Angle\", \"DV Scan Angle pointing South\", \"GRBN >> Gyro toolface relative bearing from North\", \"DV Scan Angle pointing North\"]\n",
    "\n",
    "tickvals=[x for x in range(0,355,15)]\n",
    "ticktext=[x for x in tickvals]\n",
    "\n",
    "layout = make_subplots(rows=1, cols=1, specs=[[{'type': 'polar'}]])\n",
    "\n",
    "\n",
    "layout.add_trace(go.Scatterpolar(theta=theta, r=r, text=text, name=\"\",\n",
    "                                 mode=\"markers\", line_color='indianred',\n",
    "                  marker=dict(color=color, size=15, symbol='circle-cross'),\n",
    "                  hovertemplate = \"%{text} <br>DV Scan Angle: %{theta} </br>\",), 1, 1)\n",
    "# layout.add_trace(go.Scatterpolar(theta=[64.1, 64.1+180], r=[1,1], text=[\"DV Scan Angle pointing South\",\"DV Scan Angle pointing North\"], name=\"\",\n",
    "#                                  mode=\"lines+markers\", line_color='indianred',\n",
    "#                   marker=dict(color=[\"green\",\"black\"], size=15, symbol='circle-cross'),\n",
    "#                                  hovertemplate = \"%{text} <br>DV Scan Angle: %{theta} </br>\",), 1, 1)\n",
    "\n",
    "layout.update_layout(polar= dict(angularaxis12=dict(\n",
    "        #title=\"OVALITY (%)\",\n",
    "        # titlefont=dict(\n",
    "        #     color=\"blue\"\n",
    "        # ),\n",
    "        # tickfont=dict(\n",
    "        #     color=\"blue\"\n",
    "        # ),\n",
    "        anchor=\"free\",\n",
    "        overlaying=\"angularaxis\",\n",
    "        #side=\"bottom\",\n",
    "        position=0,\n",
    "        #range=tickvals,\n",
    "        tickvals=tickvals,\n",
    "        #nticks=6,\n",
    "        mirror=True,\n",
    "        #showline=True,\n",
    "        ticks=\"inside\",\n",
    "    )))\n",
    "\n",
    "layout.add_trace(go.Scatterpolar(theta=[64.1, 64.1+180], r=[1,1], text=[\"DV Scan Angle pointing South\",\"DV Scan Angle pointing North\"], name=\"\",\n",
    "                                 mode=\"lines+markers\", line_color='indianred',\n",
    "                  marker=dict(color=[\"green\",\"black\"], size=15, symbol='circle-cross'),\n",
    "                                 hovertemplate = \"%{text} <br>DV Scan Angle: %{theta} </br>\", ))\n",
    "\n",
    "# Same data for the two Scatterpolar plots, we will only change the direction in the layout\n",
    "#fig.update_traces(subplot=\"polar\", r= r, theta=theta,\n",
    "#                  mode=\"lines+markers\", line_color='indianred',\n",
    "#                  marker=dict(color='lightslategray', size=5, symbol='square'))\n",
    "layout.update_polars(bgcolor='darkgrey', )\n",
    "layout.update_layout(\n",
    "    showlegend = False,\n",
    "    polar = dict(\n",
    "      hole = 0.75,\n",
    "      radialaxis_range = [0,2],\n",
    "      radialaxis_tickfont_size = 1,\n",
    "      angularaxis_ticks=\"inside\",\n",
    "      angularaxis = dict(\n",
    "        tickfont_size = 18,\n",
    "        rotation = 180-205.9,\n",
    "        direction = \"clockwise\",\n",
    "        tickvals=tickvals,\n",
    "        ticktext=ticktext,\n",
    "      ),\n",
    "    ))\n",
    "\n",
    "layout.add_layout_image(dict(\n",
    "                    source=\"https://cdn.pixabay.com/photo/2012/04/26/14/18/geography-42608_960_720.png\",\n",
    "                    xref=\"paper\", yref=\"paper\",\n",
    "                    x=0.5, y=0.5,\n",
    "                    sizex=0.5, sizey=0.5,\n",
    "                    xanchor=\"center\",\n",
    "                    yanchor=\"middle\",\n",
    "                    sizing=\"contain\",\n",
    "                    layer=\"above\"))\n",
    "\n",
    "layout.show()"
   ]
  },
  {
   "cell_type": "code",
   "execution_count": null,
   "metadata": {},
   "outputs": [],
   "source": [
    "pio.write_html(fig, file='polar.html', auto_open=False)"
   ]
  },
  {
   "cell_type": "code",
   "execution_count": null,
   "metadata": {},
   "outputs": [],
   "source": []
  }
 ],
 "metadata": {
  "kernelspec": {
   "display_name": "Python 3",
   "language": "python",
   "name": "python3"
  },
  "language_info": {
   "codemirror_mode": {
    "name": "ipython",
    "version": 3
   },
   "file_extension": ".py",
   "mimetype": "text/x-python",
   "name": "python",
   "nbconvert_exporter": "python",
   "pygments_lexer": "ipython3",
   "version": "3.10.7"
  },
  "orig_nbformat": 4,
  "vscode": {
   "interpreter": {
    "hash": "1181de65e860335eb90721c0b97f923d25dc82cbcdc09a17f8c1b36376946eb7"
   }
  }
 },
 "nbformat": 4,
 "nbformat_minor": 2
}
