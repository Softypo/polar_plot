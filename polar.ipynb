{
 "cells": [
  {
   "cell_type": "code",
   "execution_count": null,
   "metadata": {},
   "outputs": [],
   "source": [
    "import plotly.graph_objects as go\n",
    "import plotly.io as pio\n",
    "from plotly.subplots import make_subplots"
   ]
  },
  {
   "cell_type": "code",
   "execution_count": null,
   "metadata": {},
   "outputs": [],
   "source": [
    "fig = make_subplots(rows=1, cols=2, specs=[[{'type': 'polar'},    {'type': 'polar'}]])\n",
    "\n",
    "r = [1,2,3,4,5]\n",
    "theta = [0,90,180,360,0]\n",
    "\n",
    "fig.add_trace(go.Scatterpolar(), 1, 1)\n",
    "fig.add_trace(go.Scatterpolar(), 1, 2)\n",
    "\n",
    "# Same data for the two Scatterpolar plots, we will only change the direction in the layout\n",
    "#fig.update_traces(subplot=\"polar\", r= r, theta=theta,\n",
    "#                  mode=\"lines+markers\", line_color='indianred',\n",
    "#                  marker=dict(color='lightslategray', size=5, symbol='square'))\n",
    "fig.update_layout(\n",
    "    showlegend = False,\n",
    "    polar = dict(\n",
    "      radialaxis_tickfont_size = 8,\n",
    "      angularaxis = dict(\n",
    "        tickfont_size=8,\n",
    "        rotation=90, # start position of angular axis\n",
    "        direction=\"counterclockwise\"\n",
    "      )\n",
    "    ),\n",
    "    polar2 = dict(\n",
    "      radialaxis_tickfont_size = 8,\n",
    "      angularaxis = dict(\n",
    "        tickfont_size = 8,\n",
    "        rotation = 90,\n",
    "        direction = \"clockwise\"\n",
    "      ),\n",
    "    ))\n",
    "\n",
    "fig.show()"
   ]
  },
  {
   "cell_type": "code",
   "execution_count": null,
   "metadata": {},
   "outputs": [],
   "source": [
    "#left graph\n",
    "r = [1,2,3,4,5]\n",
    "theta = [0,90,180,360,0]\n",
    "tickvals=[64.1 if x==60 else x for x in range(0,355,15)]\n",
    "ticktext=['64.1' if x==64.1 else \"DVSA\" if x==90 else x for x in tickvals]\n",
    "\n",
    "fig = go.Figure(data=go.Scatterpolar())\n",
    "fig.update_layout(\n",
    "    showlegend = False,\n",
    "    #template = 'plotly_dark',\n",
    "    polar = dict(\n",
    "      hole = 0.65,\n",
    "      radialaxis_tickfont_size = 1,\n",
    "      angularaxis_ticks=\"inside\",\n",
    "      angularaxis = dict(\n",
    "        tickfont_size = 18,\n",
    "        rotation = 180-205.9,\n",
    "        direction = \"clockwise\",\n",
    "        tickvals=tickvals,\n",
    "        ticktext=ticktext,\n",
    "      ),\n",
    "    ))\n",
    "fig.add_layout_image(dict(\n",
    "                    source=\"https://cdn.pixabay.com/photo/2012/04/26/14/18/geography-42608_960_720.png\",\n",
    "                    xref=\"paper\", yref=\"paper\",\n",
    "                    x=0.5, y=0.5,\n",
    "                    sizex=0.5, sizey=0.5,\n",
    "                    xanchor=\"center\",\n",
    "                    yanchor=\"middle\",\n",
    "                    sizing=\"contain\",\n",
    "                    layer=\"above\"))\n",
    "fig.show()"
   ]
  },
  {
   "cell_type": "code",
   "execution_count": null,
   "metadata": {},
   "outputs": [],
   "source": [
    "pio.write_html(fig, file='polar.html', auto_open=False)"
   ]
  },
  {
   "cell_type": "code",
   "execution_count": null,
   "metadata": {},
   "outputs": [],
   "source": []
  }
 ],
 "metadata": {
  "kernelspec": {
   "display_name": "Python 3",
   "language": "python",
   "name": "python3"
  },
  "language_info": {
   "codemirror_mode": {
    "name": "ipython",
    "version": 3
   },
   "file_extension": ".py",
   "mimetype": "text/x-python",
   "name": "python",
   "nbconvert_exporter": "python",
   "pygments_lexer": "ipython3",
   "version": "3.10.7"
  },
  "orig_nbformat": 4,
  "vscode": {
   "interpreter": {
    "hash": "1181de65e860335eb90721c0b97f923d25dc82cbcdc09a17f8c1b36376946eb7"
   }
  }
 },
 "nbformat": 4,
 "nbformat_minor": 2
}
